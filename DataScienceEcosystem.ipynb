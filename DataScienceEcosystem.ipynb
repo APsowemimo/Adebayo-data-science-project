{
 "cells": [
  {
   "cell_type": "markdown",
   "id": "a5aa6be0-9f2a-410d-af20-86243dd889c0",
   "metadata": {},
   "source": [
    "# Data Science Tools and Ecosystem"
   ]
  },
  {
   "cell_type": "markdown",
   "id": "d9acf81b-eb4b-4ecb-b964-5ece3dc941c7",
   "metadata": {},
   "source": [
    "In this notebook, Data Science Tools and Ecosystem are summarized."
   ]
  },
  {
   "cell_type": "markdown",
   "id": "20f70121-d5fd-40d9-950a-39b3dc7cb14f",
   "metadata": {},
   "source": [
    "**Objectives**\n",
    "\n",
    "- Basic use of Jupyter notebook\n",
    "- Popularlanguages for data science\n",
    "- Popular libraries for data data science\n",
    "- Popular tools for data science\n",
    "- Simple arithmetic operation using Python"
   ]
  },
  {
   "cell_type": "markdown",
   "id": "2ec175e3-c6d7-4793-976e-91360d7e0f22",
   "metadata": {},
   "source": [
    "Some of the popular languages that Data Scientists use are:\n",
    "1. Python\n",
    "2. R\n",
    "3. SQL\n",
    "4. Java"
   ]
  },
  {
   "cell_type": "markdown",
   "id": "01f3d3bb-d4e7-4103-9354-c5c38d053386",
   "metadata": {},
   "source": [
    "Some of the commonly used libraries used by Data Scientists include:\n",
    "1. Pandas\n",
    "2. Numpy\n",
    "3. Scikit-learn\n",
    "4. Matplotlib"
   ]
  },
  {
   "cell_type": "markdown",
   "id": "681dd048-a9ad-4ec0-a16b-f504e78ac1d6",
   "metadata": {},
   "source": [
    "### My data science table tools\n",
    "<div align=\"left\"> \n",
    "    \n",
    "| Data Sience Tools |\n",
    "|-------------------|\n",
    "| JupyterLab        |\n",
    "| RStudio           |\n",
    "| Google Colab      |\n",
    "\n",
    "</div>\n",
    "\n"
   ]
  },
  {
   "cell_type": "markdown",
   "id": "6da6b36e-39df-4c43-89e6-3daeca8a3559",
   "metadata": {},
   "source": [
    "### Below are a few examples of evaluating arithmetic expressions in Python"
   ]
  },
  {
   "cell_type": "code",
   "execution_count": 2,
   "id": "ee9d6a8c-9e34-494d-8ff3-1feb1219176e",
   "metadata": {},
   "outputs": [
    {
     "data": {
      "text/plain": [
       "17"
      ]
     },
     "execution_count": 2,
     "metadata": {},
     "output_type": "execute_result"
    }
   ],
   "source": [
    "# This a simple arithmetic expression to mutiply then add integers\n",
    "(3*4)+5"
   ]
  },
  {
   "cell_type": "code",
   "execution_count": 3,
   "id": "49e277e4-0ee5-4128-a80f-9e86b4dc64c3",
   "metadata": {},
   "outputs": [
    {
     "name": "stdout",
     "output_type": "stream",
     "text": [
      "200 minutes is equal to 3.3333333333333335 hours\n"
     ]
    }
   ],
   "source": [
    "#This will convert 200 minutes to hours by diving by 60.\n",
    "minutes = 200\n",
    "hours = minutes /60\n",
    "print(f\"{minutes} minutes is equal to {hours} hours\")"
   ]
  },
  {
   "cell_type": "markdown",
   "id": "aeadce6e-be13-44ea-8efa-0dcce173f119",
   "metadata": {},
   "source": [
    "## Author\n",
    "Adebayo Sowemimo"
   ]
  },
  {
   "cell_type": "code",
   "execution_count": null,
   "id": "a73ac1bc-c811-401e-bed6-22726762c468",
   "metadata": {},
   "outputs": [],
   "source": []
  }
 ],
 "metadata": {
  "kernelspec": {
   "display_name": "Python 3 (ipykernel)",
   "language": "python",
   "name": "python3"
  },
  "language_info": {
   "codemirror_mode": {
    "name": "ipython",
    "version": 3
   },
   "file_extension": ".py",
   "mimetype": "text/x-python",
   "name": "python",
   "nbconvert_exporter": "python",
   "pygments_lexer": "ipython3",
   "version": "3.13.5"
  }
 },
 "nbformat": 4,
 "nbformat_minor": 5
}
